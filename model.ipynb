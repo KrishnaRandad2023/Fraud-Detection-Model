{
 "cells": [
  {
   "cell_type": "code",
   "execution_count": 2,
   "metadata": {},
   "outputs": [
    {
     "name": "stdout",
     "output_type": "stream",
     "text": [
      "9651\n",
      "1842743\n"
     ]
    },
    {
     "data": {
      "image/png": "[encoded data removed]",
      "text/plain": [
       "<Figure size 640x480 with 1 Axes>"
      ]
     },
     "metadata": {},
     "output_type": "display_data"
    },
    {
     "name": "stdout",
     "output_type": "stream",
     "text": [
      "Index(['Unnamed: 0', 'trans_date_trans_time', 'cc_num', 'merchant', 'category',\n",
      "       'amt', 'first', 'last', 'gender', 'street', 'city', 'state', 'zip',\n",
      "       'lat', 'long', 'city_pop', 'job', 'dob', 'trans_num', 'unix_time',\n",
      "       'merch_lat', 'merch_long', 'is_fraud'],\n",
      "      dtype='object')\n"
     ]
    }
   ],
   "source": [
    "import pandas as pd\n",
    "import numpy as np\n",
    "import matplotlib.pyplot as plt\n",
    "import seaborn as sns \n",
    "import pickle\n",
    "\n",
    "\n",
    "from sklearn.model_selection import train_test_split\n",
    "from sklearn.preprocessing import StandardScaler, LabelEncoder\n",
    "from sklearn.neighbors import KNeighborsClassifier\n",
    "from sklearn.metrics import accuracy_score,classification_report,confusion_matrix\n",
    "from sklearn.tree import DecisionTreeClassifier\n",
    "from sklearn.linear_model import LogisticRegression\n",
    "from sklearn.svm import SVC\n",
    "\n",
    "train_data=pd.read_csv('fraudTrain.csv')\n",
    "test_data=pd.read_csv('fraudTest.csv')\n",
    "\n",
    "Data = pd.concat([train_data,test_data])\n",
    "Data.describe()\n",
    "fraud  = Data[Data['is_fraud']==1]\n",
    "not_fraud  = Data[Data['is_fraud']==0]\n",
    "\n",
    "print(fraud.shape[0])\n",
    "print(not_fraud.shape[0])\n",
    "\n",
    "not_fraud = not_fraud.sample(fraud.shape[0])\n",
    "data = pd.concat([fraud,not_fraud])\n",
    "fraud_counts=data['is_fraud'].value_counts()\n",
    "sns.barplot(x=fraud_counts.index,y=fraud_counts.values)\n",
    "plt.title('New Distribution of Fraud')\n",
    "plt.xlabel('Fraud')\n",
    "plt.ylabel('Count')\n",
    "plt.show()\n",
    "categorical_column  =  data.select_dtypes(include = ['object']).columns\n",
    "label_encoder = LabelEncoder()\n",
    "for col in categorical_column:\n",
    "  data[col] = label_encoder.fit_transform(data[col])\n",
    "scaler  =  StandardScaler()\n",
    "num_cols = data.select_dtypes(include=[np.number]).columns\n",
    "print(num_cols)\n",
    "data[num_cols] = scaler.fit_transform(data[num_cols])\n",
    "X =  data.drop('is_fraud',axis = 1)\n",
    "y = data['is_fraud']\n",
    "\n",
    "X_train,X_test,y_train,y_test=train_test_split(X,y,test_size=0.2,random_state=5)\n",
    "\n",
    "\n"
   ]
  },
  {
   "cell_type": "markdown",
   "metadata": {},
   "source": [
    "SVM\n"
   ]
  },
  {
   "cell_type": "code",
   "execution_count": 8,
   "metadata": {},
   "outputs": [
    {
     "name": "stdout",
     "output_type": "stream",
     "text": [
      "0.871017871017871\n",
      "              precision    recall  f1-score   support\n",
      "\n",
      "        -1.0       0.97      0.82      0.89      2368\n",
      "         1.0       0.77      0.96      0.85      1493\n",
      "\n",
      "    accuracy                           0.87      3861\n",
      "   macro avg       0.87      0.89      0.87      3861\n",
      "weighted avg       0.89      0.87      0.87      3861\n",
      "\n"
     ]
    }
   ],
   "source": [
    "svm = SVC()\n",
    "svm.fit(X_train,y_train)\n",
    "svm_pred = svm.predict(X_test)\n",
    "svm_accuracy = accuracy_score(svm_pred,y_test)\n",
    "\n",
    "print(svm_accuracy)\n",
    "\n",
    "print(classification_report(svm_pred,y_test))"
   ]
  },
  {
   "cell_type": "markdown",
   "metadata": {},
   "source": [
    "KNN\n"
   ]
  },
  {
   "cell_type": "code",
   "execution_count": 9,
   "metadata": {},
   "outputs": [
    {
     "name": "stdout",
     "output_type": "stream",
     "text": [
      "the accuracy of the model is :- 0.8197358197358198\n",
      "              precision    recall  f1-score   support\n",
      "\n",
      "        -1.0       0.86      0.78      0.82      1996\n",
      "         1.0       0.79      0.86      0.82      1865\n",
      "\n",
      "    accuracy                           0.82      3861\n",
      "   macro avg       0.82      0.82      0.82      3861\n",
      "weighted avg       0.82      0.82      0.82      3861\n",
      "\n"
     ]
    }
   ],
   "source": [
    "knn =KNeighborsClassifier(1)\n",
    "knn.fit(X_train,y_train)\n",
    "\n",
    "\n",
    "y_predict = knn.predict(X_test)\n",
    "\n",
    "knn_accuracy = accuracy_score(y_test,y_predict)\n",
    "print(f\"the accuracy of the model is :- {knn_accuracy}\")\n",
    "print(classification_report(y_test,y_predict))"
   ]
  },
  {
   "cell_type": "markdown",
   "metadata": {},
   "source": [
    "DECISION TREE CLASSIFIER"
   ]
  },
  {
   "cell_type": "code",
   "execution_count": 10,
   "metadata": {},
   "outputs": [
    {
     "name": "stdout",
     "output_type": "stream",
     "text": [
      "the accuracy is :- 0.9572649572649573\n",
      "              precision    recall  f1-score   support\n",
      "\n",
      "        -1.0       0.96      0.96      0.96      1996\n",
      "         1.0       0.95      0.96      0.96      1865\n",
      "\n",
      "    accuracy                           0.96      3861\n",
      "   macro avg       0.96      0.96      0.96      3861\n",
      "weighted avg       0.96      0.96      0.96      3861\n",
      "\n"
     ]
    }
   ],
   "source": [
    "decision_tree =  DecisionTreeClassifier()\n",
    "decision_tree.fit(X_train,y_train)\n",
    "y_pred = decision_tree.predict(X_test)\n",
    "dtc_accuracy = accuracy_score(y_test,y_pred)\n",
    "print(f\"the accuracy is :- {dtc_accuracy}\")\n",
    "\n",
    "print(classification_report(y_test,y_pred))"
   ]
  },
  {
   "cell_type": "markdown",
   "metadata": {},
   "source": [
    "Logistic Regression \n"
   ]
  },
  {
   "cell_type": "code",
   "execution_count": 11,
   "metadata": {},
   "outputs": [
    {
     "name": "stdout",
     "output_type": "stream",
     "text": [
      "the accuracy of the model is : - 0.8609168609168609\n",
      "              precision    recall  f1-score   support\n",
      "\n",
      "        -1.0       0.82      0.94      0.88      1996\n",
      "         1.0       0.93      0.77      0.84      1865\n",
      "\n",
      "    accuracy                           0.86      3861\n",
      "   macro avg       0.87      0.86      0.86      3861\n",
      "weighted avg       0.87      0.86      0.86      3861\n",
      "\n"
     ]
    }
   ],
   "source": [
    "model  = LogisticRegression()\n",
    "model.fit(X_train,y_train)\n",
    "y_predict = model.predict(X_test)\n",
    "\n",
    "LR_accuracy =  accuracy_score(y_test,y_predict)\n",
    "print(f'the accuracy of the model is : - {LR_accuracy}')\n",
    "print(classification_report(y_test,y_predict))"
   ]
  },
  {
   "cell_type": "markdown",
   "metadata": {},
   "source": [
    "MODEL COMPARISON\n",
    "\n"
   ]
  },
  {
   "cell_type": "code",
   "execution_count": 12,
   "metadata": {},
   "outputs": [
    {
     "name": "stdout",
     "output_type": "stream",
     "text": [
      "the accuracy of Logistic Regression is :- 86.09%\n",
      "the accuracy of K-Nearest Neighbour is :- 81.97%\n",
      "the accuracy of Decison Tree is :- 95.73%\n",
      "the accuracy of Support Vector Machine is :- 87.10%\n"
     ]
    }
   ],
   "source": [
    "Model_Accuracies = {\n",
    "  'Logistic Regression': LR_accuracy,\n",
    "  'K-Nearest Neighbour': knn_accuracy,\n",
    "  'Decison Tree': dtc_accuracy,\n",
    "  'Support Vector Machine': svm_accuracy\n",
    "}\n",
    "\n",
    "\n",
    "for model,accuracy in Model_Accuracies.items():\n",
    "  print(f\"the accuracy of {model} is :- {accuracy*100:.2f}%\")"
   ]
  },
  {
   "cell_type": "code",
   "execution_count": null,
   "metadata": {},
   "outputs": [],
   "source": []
  }
 ],
 "metadata": {
  "kernelspec": {
   "display_name": "Python 3",
   "language": "python",
   "name": "python3"
  },
  "language_info": {
   "codemirror_mode": {
    "name": "ipython",
    "version": 3
   },
   "file_extension": ".py",
   "mimetype": "text/x-python",
   "name": "python",
   "nbconvert_exporter": "python",
   "pygments_lexer": "ipython3",
   "version": "3.11.9"
  }
 },
 "nbformat": 4,
 "nbformat_minor": 2
}
